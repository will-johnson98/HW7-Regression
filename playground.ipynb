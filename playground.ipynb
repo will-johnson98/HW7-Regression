{
 "cells": [
  {
   "cell_type": "code",
   "execution_count": 1,
   "metadata": {},
   "outputs": [],
   "source": [
    "from regression import (logreg, utils)\n",
    "from sklearn.preprocessing import StandardScaler"
   ]
  },
  {
   "cell_type": "code",
   "execution_count": 5,
   "metadata": {},
   "outputs": [],
   "source": [
    "X_train, X_val, y_train, y_val = utils.loadDataset(\n",
    "    features=[\n",
    "        'Penicillin V Potassium 500 MG',\n",
    "        'Computed tomography of chest and abdomen',\n",
    "        'Plain chest X-ray (procedure)',\n",
    "        'Low Density Lipoprotein Cholesterol',\n",
    "        'Creatinine',\n",
    "        'AGE_DIAGNOSIS',\n",
    "    ],\n",
    "    split_percent=0.8,\n",
    "    split_seed=42\n",
    ")\n",
    "\n",
    "sc = StandardScaler()\n",
    "X_train = sc.fit_transform(X_train)\n",
    "X_val = sc.transform(X_val)"
   ]
  },
  {
   "cell_type": "code",
   "execution_count": 11,
   "metadata": {},
   "outputs": [
    {
     "name": "stdout",
     "output_type": "stream",
     "text": [
      "Scikit-Learn Regressor Accuracy: 0.8725\n"
     ]
    }
   ],
   "source": [
    "from sklearn.linear_model import LogisticRegression\n",
    "\n",
    "sklearn_reggressor = LogisticRegression(\n",
    "    penalty='l2', solver='liblinear',\n",
    "    dual=False,\n",
    "    random_state=42\n",
    ").fit(X_train, y_train)\n",
    "\n",
    "sklearn_accuracy = sklearn_reggressor.score(X_val, y_val)\n",
    "print(f\"Scikit-Learn Regressor Accuracy: {sklearn_accuracy}\")"
   ]
  },
  {
   "cell_type": "code",
   "execution_count": null,
   "metadata": {},
   "outputs": [],
   "source": [
    "log_model = logreg.LogisticRegressor(\n",
    "    num_feats=6, \n",
    "    learning_rate=0.00001, \n",
    "    tol=0.01, \n",
    "    max_iter=10, \n",
    "    batch_size=10\n",
    ")\n",
    "log_model.train_model(X_train, y_train, X_val, y_val)\n",
    "log_model.plot_loss_history()"
   ]
  }
 ],
 "metadata": {
  "kernelspec": {
   "display_name": "Python 3",
   "language": "python",
   "name": "python3"
  },
  "language_info": {
   "codemirror_mode": {
    "name": "ipython",
    "version": 3
   },
   "file_extension": ".py",
   "mimetype": "text/x-python",
   "name": "python",
   "nbconvert_exporter": "python",
   "pygments_lexer": "ipython3",
   "version": "3.12.8"
  }
 },
 "nbformat": 4,
 "nbformat_minor": 2
}
